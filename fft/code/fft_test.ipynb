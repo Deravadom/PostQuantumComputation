{
 "cells": [
  {
   "cell_type": "code",
   "execution_count": 47,
   "metadata": {},
   "outputs": [],
   "source": [
    "from fft_toys import *\r\n",
    "from fft_test import *\r\n",
    "import numpy as np\r\n",
    "from numpy.fft import fft, ifft"
   ]
  },
  {
   "cell_type": "code",
   "execution_count": 48,
   "metadata": {},
   "outputs": [
    {
     "name": "stdout",
     "output_type": "stream",
     "text": [
      "========================================================\n",
      "This section demonstrates the integer limitations of evalPoly.\n",
      "Original: 9999999999999998\n",
      "Coeffs: [8, 9, 9, 9, 9, 9, 9, 9, 9, 9, 9, 9, 9, 9, 9, 9]\n",
      "Evaluated: 9999999999999998.0\n",
      "Equal as float?: True\n",
      "Equal as int?: True\n",
      "Float Error: 0.0\n",
      "Int error: 0.0\n",
      "========================================================\n",
      "Now for the risky version:\n",
      "Original: 9999999999999999\n",
      "Coeffs: [9, 9, 9, 9, 9, 9, 9, 9, 9, 9, 9, 9, 9, 9, 9, 9]\n",
      "Evaluated: 1e+16\n",
      "Equal as float?: False\n",
      "Equal as int?: False\n",
      "Float Error: 0.0\n",
      "Int error: 1.0000000000000001e-16\n",
      "========================================================\n"
     ]
    }
   ],
   "source": [
    "#Demonstration of the practical max of the result of the multiplication\r\n",
    "practical_max = 9999999999999998\r\n",
    "max_plus_one = practical_max+1\r\n",
    "base = 10\r\n",
    "safe_coeffs = getCoeff(practical_max, base)\r\n",
    "safe_result = evalPoly(safe_coeffs, base)\r\n",
    "risky_coeffs = getCoeff(max_plus_one, base)\r\n",
    "risky_result = evalPoly(risky_coeffs, base)\r\n",
    "print(\"========================================================\")\r\n",
    "print(\"This section demonstrates the integer limitations of evalPoly.\")\r\n",
    "print(\"Original:\", practical_max)\r\n",
    "print(\"Coeffs:\", safe_coeffs)\r\n",
    "print(\"Evaluated:\", safe_result)\r\n",
    "print(\"Equal as float?:\", safe_result == practical_max)\r\n",
    "print(\"Equal as int?:\",int(safe_result) == practical_max)\r\n",
    "print(\"Float Error:\", (safe_result-practical_max)/practical_max)\r\n",
    "print(\"Int error:\", (int(safe_result)-practical_max)/practical_max)\r\n",
    "print(\"========================================================\")\r\n",
    "print(\"Now for the risky version:\")\r\n",
    "print(\"Original:\", max_plus_one)\r\n",
    "print(\"Coeffs:\", risky_coeffs)\r\n",
    "print(\"Evaluated:\", risky_result)\r\n",
    "print(\"Equal as float?:\", risky_result == max_plus_one)\r\n",
    "print(\"Equal as int?:\",int(risky_result) == max_plus_one)\r\n",
    "print(\"Float Error:\", (risky_result-max_plus_one)/max_plus_one)\r\n",
    "print(\"Int error:\", (int(risky_result)-max_plus_one)/max_plus_one)\r\n",
    "print(\"========================================================\")"
   ]
  },
  {
   "cell_type": "code",
   "execution_count": 49,
   "metadata": {},
   "outputs": [
    {
     "name": "stdout",
     "output_type": "stream",
     "text": [
      "========================================================\n",
      "This section demonstrates the integer limitations of RFFT and IRFFT\n",
      "Original value: 999999999999\n",
      "Greater than practical max?: False\n",
      "According to numpy: (-6129297158959409+4041700383261570j)\n",
      "Or alternatively: 7341908856073099.0\n",
      "Numpy's error: (-6130.297158965538+4041.700383265612j)\n",
      "Or alternatively: 7340.908856080441\n",
      "According to me: (1.0478517722609836e+16-2.308591389299413e+16j)\n",
      "Or alternatively: 2.5352687311955468e+16\n",
      "My error: (10477.517722620314-23085.913893017212j)\n",
      "Or alternatively: 25351.68731198082\n",
      "========================================================\n",
      "Original value: 1000000000000\n",
      "Greater than practical max?: False\n",
      "According to numpy: (-110223024625.1565+0j)\n",
      "Or alternatively: 110223024625.1565\n",
      "Numpy's error: (-1.1102230246251565+0j)\n",
      "Or alternatively: -0.8897769753748435\n",
      "According to me: (2665334544788.197+277555747829.6166j)\n",
      "Or alternatively: 2679747269574.98\n",
      "My error: (1.6653345447881969+0.27755574782961656j)\n",
      "Or alternatively: 1.67974726957498\n",
      "========================================================\n"
     ]
    }
   ],
   "source": [
    "#Demonstrate differences between numpy's fft+ifft and mine\r\n",
    "fft_max = 999999999999\r\n",
    "max_plus_one=fft_max+1\r\n",
    "base=10\r\n",
    "safe_coeffs = getCoeff(fft_max, base)\r\n",
    "safe_padded,_ = pad_coeffs(safe_coeffs, safe_coeffs)\r\n",
    "\r\n",
    "safe_numpy_result = evalPoly(ifft(fft(safe_padded)), base)\r\n",
    "safe_numpy_as_dist = complex_to_distance(safe_numpy_result)\r\n",
    "\r\n",
    "safe_my_result = evalPoly(IRFFT(RFFT(safe_padded)), base)\r\n",
    "safe_mine_as_dist = complex_to_distance(safe_my_result)\r\n",
    "\r\n",
    "risky_coeffs = getCoeff(max_plus_one, base)\r\n",
    "risky_padded,_ = pad_coeffs(risky_coeffs,risky_coeffs)\r\n",
    "\r\n",
    "risky_numpy_result = evalPoly(ifft(fft(risky_padded)), base)\r\n",
    "risky_numpy_as_dist = complex_to_distance(risky_numpy_result)\r\n",
    "\r\n",
    "risky_my_result = evalPoly(IRFFT(RFFT(risky_padded)), base)\r\n",
    "risky_mine_as_dist = complex_to_distance(risky_my_result)\r\n",
    "\r\n",
    "print(\"========================================================\")\r\n",
    "print(\"This section demonstrates the integer limitations of RFFT and IRFFT\")\r\n",
    "print(\"Original value:\", fft_max)\r\n",
    "print(\"Greater than practical max?:\",fft_max >= practical_max)\r\n",
    "print(\"According to numpy:\",safe_numpy_result)\r\n",
    "print(\"Or alternatively:\",safe_numpy_as_dist)\r\n",
    "print(\"Numpy's error:\", (safe_numpy_result-fft_max)/fft_max)\r\n",
    "print(\"Or alternatively:\", (safe_numpy_as_dist-fft_max)/fft_max)\r\n",
    "print(\"According to me:\", safe_my_result)\r\n",
    "print(\"Or alternatively:\", safe_mine_as_dist)\r\n",
    "print(\"My error:\", (safe_my_result-fft_max)/fft_max)\r\n",
    "print(\"Or alternatively:\", (safe_mine_as_dist-fft_max)/fft_max)\r\n",
    "print(\"========================================================\")\r\n",
    "print(\"Original value:\", max_plus_one)\r\n",
    "print(\"Greater than practical max?:\",max_plus_one >= practical_max)\r\n",
    "print(\"According to numpy:\",risky_numpy_result)\r\n",
    "print(\"Or alternatively:\",risky_numpy_as_dist)\r\n",
    "print(\"Numpy's error:\", (risky_numpy_result-max_plus_one)/max_plus_one)\r\n",
    "print(\"Or alternatively:\", (risky_numpy_as_dist-max_plus_one)/max_plus_one)\r\n",
    "print(\"According to me:\", risky_my_result)\r\n",
    "print(\"Or alternatively:\", risky_mine_as_dist)\r\n",
    "print(\"My error:\", (risky_my_result-max_plus_one)/max_plus_one)\r\n",
    "print(\"Or alternatively:\", (risky_mine_as_dist-max_plus_one)/max_plus_one)\r\n",
    "print(\"========================================================\")"
   ]
  },
  {
   "cell_type": "code",
   "execution_count": 50,
   "metadata": {},
   "outputs": [
    {
     "name": "stdout",
     "output_type": "stream",
     "text": [
      "A,B,base: 453667 646774 10\n",
      "Coeffs of A: [7, 6, 6, 3, 5, 4]\n",
      "Coeffs of B: [4, 7, 7, 6, 4, 6]\n",
      "Padded A: [7, 6, 6, 3, 5, 4, 0, 0, 0, 0, 0, 0, 0, 0, 0, 0]\n",
      "Padded B: [4, 7, 7, 6, 4, 6, 0, 0, 0, 0, 0, 0, 0, 0, 0, 0]\n",
      "FFT of A: [31, (16.403234449821916-18.005898008888828j), (1.292893218813454-9.535533905932738j), (5.977339439582541-2.107133855631379j), (5.999999999999999-7j), (-0.4626208138211112-3.621852481392807j), (2.707106781186546+2.4644660940672627j), (6.082046924416652+0.4793833653497419j), 5, (6.082046924416655-0.47938336534973836j), (2.707106781186549-2.464466094067262j), (-0.46262081382110853+3.6218524813928075j), (6.000000000000001+7j), (5.97733943958254+2.1071338556313766j), (1.2928932188134512+9.535533905932738j), (16.403234449821916+18.005898008888828j)]\n",
      "FFT of B: [34.         +0.j         15.4169042 -22.71508588j\n",
      " -3.53553391-11.94974747j  1.72903656 -2.82470301j\n",
      "  1.         -7.j         -3.62853149 -0.92520807j\n",
      "  3.53553391 +2.05025253j  2.48259074 -4.81559095j\n",
      " -4.         +0.j          2.48259074 +4.81559095j\n",
      "  3.53553391 -2.05025253j -3.62853149 +0.92520807j\n",
      "  1.         +7.j          1.72903656 +2.82470301j\n",
      " -3.53553391+11.94974747j 15.4169042 +22.71508588j]\n",
      "Multiplied: [(1054+0j), (-156.1184256928622-650.1960838833575j), (-118.51828996322965+18.263455967290582j), (4.383011072891609-20.52752016137216j), (-43-48.99999999999999j), (-1.6723329542368515+13.570026309185899j), (4.518289963229633+14.26345596729059j), (17.407747574207523-28.098537412799356j), (-20+0j), (17.407747574207516+28.09853741279938j), (4.518289963229644-14.263455967290593j), (-1.6723329542368617-13.570026309185899j), (-43+49.00000000000001j), (4.383011072891613+20.527520161372152j), (-118.51828996322965-18.263455967290614j), (-156.1184256928622+650.1960838833575j)]\n",
      "Inverted: [(28.00000000000001-1.3322676295501878e-15j), (73.00000000000001-3.7504808223887693e-16j), (115.00000000000003+1.1102230246251585e-16j), (138-8.506736114762376e-15j), (147+1.1268763699945339e-14j), (174+6.730379275362125e-15j), (141+5.218048215738236e-15j), (105.99999999999997+2.1514049216391273e-15j), (61.999999999999986-1.3322676295501878e-15j), (45.999999999999986-3.7504808223887693e-16j), (23.99999999999998+1.1102230246251585e-16j), 5.7041186004396286e-15j, -5.051514762044462e-15j, (-1.4210854715202004e-14-7.480475439839878e-15j), -8.992806499463768e-15j, (2.1316282072803006e-14+2.1514049216391273e-15j)]\n",
      "Final result: (293420020279.17395+1.1728390438498528j)\n",
      "Actual result: 293420020258\n",
      "Error: (7.216259536992244e-11+3.9971336748548795e-12j)\n"
     ]
    }
   ],
   "source": [
    "A,B=453667,646774\r\n",
    "base=10\r\n",
    "a_coeffs,b_coeffs = getCoeff(A,base), getCoeff(B,base)\r\n",
    "a_pad,b_pad = pad_coeffs(a_coeffs,b_coeffs)\r\n",
    "\r\n",
    "#numpy version\r\n",
    "a_fft,b_fft = RFFT(a_pad), fft(b_pad)\r\n",
    "multiplied = [a*b for a,b in zip(a_fft, b_fft)]\r\n",
    "inverted = IRFFT(multiplied)\r\n",
    "result = evalPoly(inverted, base)\r\n",
    "\r\n",
    "print(\"A,B,base:\", A, B, base)\r\n",
    "print(\"Coeffs of A:\", a_coeffs)\r\n",
    "print(\"Coeffs of B:\", b_coeffs)\r\n",
    "print(\"Padded A:\", a_pad)\r\n",
    "print(\"Padded B:\", b_pad)\r\n",
    "print(\"FFT of A:\", a_fft)\r\n",
    "print(\"FFT of B:\", b_fft)\r\n",
    "print(\"Multiplied:\", multiplied)\r\n",
    "print(\"Inverted:\", inverted)\r\n",
    "print(\"Final result:\", result)\r\n",
    "print(\"Actual result:\", A*B)\r\n",
    "print(\"Error:\",(result - (A*B))/(A*B))"
   ]
  },
  {
   "cell_type": "code",
   "execution_count": 51,
   "metadata": {},
   "outputs": [
    {
     "name": "stdout",
     "output_type": "stream",
     "text": [
      "Am I risky?: no\n"
     ]
    }
   ],
   "source": [
    "print(\"Am I risky?:\", \"yes\" if A*B > fft_max else \"no\")"
   ]
  }
 ],
 "metadata": {
  "kernelspec": {
   "display_name": "Python 3",
   "language": "python",
   "name": "python3"
  },
  "language_info": {
   "codemirror_mode": {
    "name": "ipython",
    "version": 3
   },
   "file_extension": ".py",
   "mimetype": "text/x-python",
   "name": "python",
   "nbconvert_exporter": "python",
   "pygments_lexer": "ipython3",
   "version": "3.8.5"
  },
  "orig_nbformat": 2
 },
 "nbformat": 4,
 "nbformat_minor": 2
}