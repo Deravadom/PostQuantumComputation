{
 "cells": [
  {
   "cell_type": "code",
   "execution_count": 7,
   "metadata": {},
   "outputs": [],
   "source": [
    "from fft_toys import *\r\n",
    "from fft_test import *\r\n",
    "import numpy as np"
   ]
  },
  {
   "cell_type": "code",
   "execution_count": 8,
   "metadata": {},
   "outputs": [
    {
     "data": {
      "text/plain": "121"
     },
     "execution_count": 8,
     "metadata": {},
     "output_type": "execute_result"
    }
   ],
   "source": [
    "A = 11\r\n",
    "B = 11\r\n",
    "A*B"
   ]
  },
  {
   "cell_type": "code",
   "execution_count": 9,
   "metadata": {},
   "outputs": [
    {
     "name": "stdout",
     "output_type": "stream",
     "text": [
      "Getting coefficients for base 10:...\n",
      "a: [1, 1, 0, 0]\n",
      "b: [1, 1, 0, 0]\n",
      "Performing fft...\n",
      "Values of a at the (2n)th roots of unity:\n",
      " [2, (1-1j), 0, (0.9999999999999999+1j)]\n",
      "Values of b at the (2n)th roots of unity:\n",
      " [2, (1-1j), 0, (0.9999999999999999+1j)]\n",
      "Multiplied values:\n",
      " [4, -2j, 0, (-2.220446049250313e-16+1.9999999999999998j)]\n",
      "Result coefficients:\n",
      " [(1-5.551115123125783e-17j), (2-5.721188726109833e-18j), (1+5.551115123125783e-17j), 5.721188726109833e-18j]\n",
      "Final multiplied value: (121+1.115958081074326e-14j)\n",
      "Integer result: 121\n"
     ]
    },
    {
     "data": {
      "text/plain": "121"
     },
     "execution_count": 9,
     "metadata": {},
     "output_type": "execute_result"
    }
   ],
   "source": [
    "base=10\r\n",
    "fft_test(A,B, base)"
   ]
  },
  {
   "cell_type": "code",
   "execution_count": 10,
   "metadata": {},
   "outputs": [
    {
     "name": "stdout",
     "output_type": "stream",
     "text": [
      "121\n"
     ]
    }
   ],
   "source": [
    "print(A*B)"
   ]
  },
  {
   "cell_type": "code",
   "execution_count": 11,
   "metadata": {},
   "outputs": [
    {
     "data": {
      "text/plain": "[(2, 121),\n (3, 41),\n (4, 121),\n (5, 121),\n (6, 121),\n (7, 121),\n (8, 121),\n (9, 121),\n (10, 121),\n (11, 121),\n (12, 121),\n (13, 121),\n (14, 121),\n (15, 121),\n (16, 121),\n (17, 121),\n (18, 121),\n (19, 121),\n (20, 121)]"
     },
     "execution_count": 11,
     "metadata": {},
     "output_type": "execute_result"
    }
   ],
   "source": [
    "[(i,fft_test(A,B,base=i, verbose=False)) for i in range(2,21)]"
   ]
  }
 ],
 "metadata": {
  "kernelspec": {
   "display_name": "Python 3",
   "language": "python",
   "name": "python3"
  },
  "language_info": {
   "codemirror_mode": {
    "name": "ipython",
    "version": 3
   },
   "file_extension": ".py",
   "mimetype": "text/x-python",
   "name": "python",
   "nbconvert_exporter": "python",
   "pygments_lexer": "ipython3",
   "version": "3.8.5"
  },
  "orig_nbformat": 2
 },
 "nbformat": 4,
 "nbformat_minor": 2
}