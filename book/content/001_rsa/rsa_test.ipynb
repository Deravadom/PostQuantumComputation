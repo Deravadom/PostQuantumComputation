{
 "cells": [
  {
   "cell_type": "code",
   "execution_count": 6,
   "metadata": {},
   "outputs": [],
   "source": [
    "from rsa_keygen import *\r\n",
    "from rsa_encrypt import *"
   ]
  },
  {
   "cell_type": "code",
   "execution_count": 7,
   "metadata": {},
   "outputs": [
    {
     "name": "stdout",
     "output_type": "stream",
     "text": [
      "Verifying inputs...\n",
      "Finished!\n",
      "Scanning for relative prime...\n",
      "Finished!\n",
      "Computing multiplicative inverse...\n",
      "Finished!\n",
      "Writing keys to files...\n",
      "Finished!\n"
     ]
    }
   ],
   "source": [
    "# Pick two primes:\r\n",
    "p = 20707\r\n",
    "q = 21059\r\n",
    "\r\n",
    "# Generate keys\r\n",
    "keygen(p, q)"
   ]
  },
  {
   "cell_type": "code",
   "execution_count": 8,
   "metadata": {},
   "outputs": [
    {
     "name": "stdout",
     "output_type": "stream",
     "text": [
      "public key: 5\n",
      "secret key: 261616169\n",
      "n: 436068713\n"
     ]
    }
   ],
   "source": [
    "public = \"public.key\"\r\n",
    "secret = \"secret.key\"\r\n",
    "sample = \"sample_text.txt\"\r\n",
    "# sample = \"rsa_encrypt.py\"\r\n",
    "encrypted_sample = \"encrypted_sample.txt\"\r\n",
    "decrypted_sample = \"decrypted_sample.txt\"\r\n",
    "\r\n",
    "public_key, public_n = read_key_info(public)\r\n",
    "secret_key, secret_n = read_key_info(secret)\r\n",
    "\r\n",
    "print(\"public key:\", public_key)\r\n",
    "print(\"secret key:\", secret_key)\r\n",
    "print(\"n:\", secret_n)"
   ]
  },
  {
   "cell_type": "code",
   "execution_count": 9,
   "metadata": {},
   "outputs": [
    {
     "name": "stdout",
     "output_type": "stream",
     "text": [
      "b'FF/DmjQPw47CrhIOLHYoBsOewpHCugAAAAIPw47CrhIMccOHwqYRXiXDqQbCjkQpEWsKw4sFAjLCiQYRw6ciB8OewoLDngUCMsKJC0/DtFwAAAACEsO6wrnDswbDnsKRwroEF8K5Pg4sdigPw47CrhIKXsKERAAAAAIGw57CkcK6Dix2KBLDu8KQwrgGwo5EKQQXwrk+Dix2KAPCrADCvwUCMsKJD8OOwq4SD8KIEMKLFF/DmjQPw47CrhIOLHYoBsOewpHCugAAAAICw6nCosKdEV4lw6kMccOHwqYFAjLCiRQRG8KTECVmYgAAAAISw7rCucOzBsOewpHCugQXwrk+Dix2KA/DjsKuEgpewoREAAAAAgLDqcKiwp0UERvCkxAlZmIFAjLCiQtPw7RcC8KIdXIOLHYoEsO7wpDCuAUCMsKJAMO2wqPDvwAAAAICw6nCosKdFBEbwpMQJWZiEsO7wpDCuAUCMsKJC8KIdXIOLHYoEsO7wpDCuAUCMsKJD8KIEMKLEsO6wrnDswbDnsKRwroEF8K5Pg4sdigPw47CrhIKXsKERAAAAAIMccOHwqYGEcOnIgxxw4fCpg/CiBDCiw/CiBDCiw/CiBDCixLDu8KQwrgFAjLCiRRfw5o0AAAAAg/DjsKuEgUCMsKJEV4lw6kSw7vCkMK4BsKORCkRawrDiwUCMsKJBhHDpyIGwo5EKRLDusK5w7MLT8O0XBRfw5o0Dix2KAxtw58fEWsKw4sFAjLCiQYRw6ciC0/DtFwRXiXDqQbDnsKRwroFAjLCiRF0YcONGcOxwpVFD8KIEMKLAAAAAgAAAAIAAAACAAAAAhQcwoXDqRQcwoXDqRQcwoXDqQ/CiBDCiwAAAAIAAAACAAAAAgAAAAIIccKAKQUCMsKJEV4lw6kSw7vCkMK4DHHDh8KmAAAAAgpewoREE8OmSnIFAjLCiQAAAAIUX8OaNBLDusK5w7MAwrd8PAUCMsKJAAAAAhFeJcOpCl7ChEQAAAACEWsKw4sFAjLCiQYRw6ciC0/DtFwRXiXDqQbDnsKRwroFAjLCiQ1Cw4/CggAAAAIRTVhjE8OmSnIFAjLCiQAAAAIUX8OaNBLDusK5w7MAwrd8PAUCMsKJAAAAAhLDusK5w7MMccOHwqYAAAACEV4lw6kMccOHwqYMccOHwqYGwoYBwrYGw57CkcK6BQIywokSw7vCkMK4AAAAAgpewoREDix2KA/CiBDCiwAAAAIAAAACAAAAAgAAAAITw6ZKchFeJcOpFMOCw70uBQIywokAAAACCl7ChEQTw6ZKcgUCMsKJAAAAAgxxw4fCpgpewoRED8OOwq4SBsKGAcK2C8KIdXIKXsKERAbChgHCtg/DjsKuEgUCMsKJGcOxwpVFAAAAAhFrCsOLBQIywokGEcOnIgDDtsKjw78LT8O0XA1Cw4/Cgg/CiBDCiwAAAAIAAAACAAAAAgAAAAIUHMKFw6kUHMKFw6kUHMKFw6kPwogQwosAAAACAAAAAgAAAAIAAAACA8KsAMK/EsO6wrnDswpewoREE8OmSnIAAAACDix2KAQXwrk+BQIywokLT8O0XAxtw58fEWsKw4sFAjLCiQYRw6ciC0/DtFwRXiXDqQbDnsKRwroFAjLCiQDDtsKjw78AAAACFBzChcOpD8OOwq4SFBzChcOpEXRhw40AAAACEV4lw6kMccOHwqYAAAACFF/DmjQZw7HClUUPwogQwosAAAACAAAAAgAAAAIAAAACAAAAAgAAAAIAAAACAAAAAhFrCsOLBQIywokGEcOnIgDDtsKjw78AAAACC0/DtFwAAAACB0rDqhoAAAACFF/DmjQNQsOPwoIPw47CrhIFAjLCiRFeJcOpEsO7wpDCuAxtw58fEXRhw40NQsOPwoIMccOHwqYEF8K5PgDCt3w8EsO6wrnDswpewoREDG3Dnx8UHMKFw6kAw7bCo8O/FBzChcOpEXRhw40PwogQwosAAAACAAAAAgAAAAIAAAACD8OOwq4SBQIywokKXsKERAbChgHCtg/DjsKuEgtPw7RcAAAAAhLDusK5w7MLT8O0XApewoREDG3Dnx8RawrDiwUCMsKJBhHDpyIRdGHDjQDDtsKjw78AAAACEsO6wrnDswtPw7RcCl7ChEQMbcOfHwtPw7RcEXRhw40PwogQwosPwogQwosPwogQwosSw7vCkMK4BQIywokUX8OaNAAAAAIFAjLCiQtPw7RcC8KIdXIPw47CrhIGEcOnIgQXwrk+Cl7ChEQMbcOfHxTDgsO9LhFeJcOpAMK3fDwGwoYBwrYFAjLCiQDDtsKjw78AAAACEWsKw4sFAjLCiQYRw6ciAMO2wqPDvwAAAAILT8O0XBF0YcONGcOxwpVFD8KIEMKLAAAAAgAAAAIAAAACAAAAAg/DjsKuEgUCMsKJCl7ChEQGwoYBwrYPw47CrhILT8O0XAAAAAIGw57CkcK6Dix2KBLDu8KQwrgGwo5EKQQXwrk+Dix2KAPCrADCvwUCMsKJD8OOwq4SDG3Dnx8Uw4LDvS4RXiXDqQDCt3w8BsKGAcK2BQIywokAw7bCo8O/AAAAAhFrCsOLBQIywokGEcOnIgDDtsKjw78AAAACC0/DtFwRdGHDjQ/CiBDCiw/CiBDCiw/CiBDCixLDu8KQwrgFAjLCiRRfw5o0AAAAAgUCMsKJC0/DtFwLwoh1cg4sdigSw7vCkMK4BQIywokMbcOfHwpewoREBQIywokEwpV2wr8KXsKERBF0YcONGcOxwpVFD8KIEMKLAAAAAgAAAAIAAAACAAAAAg/DjsKuEgUCMsKJCl7ChEQGwoYBwrYPw47CrhILT8O0XAAAAAICw6nCosKdFBEbwpMQJWZiBQIywokLT8O0XAvCiHVyDix2KBLDu8KQwrgFAjLCiQxtw58fCl7ChEQFAjLCiQTClXbCvwpewoREDULDj8KCBQIywokLT8O0XAvCiHVyDix2KBLDu8KQwrgFAjLCiQxtw58fEXRhw40RdGHDjQ/CiBDCiw/CiBDCiw/CiBDCixLDu8KQwrgFAjLCiRRfw5o0AAAAAhLDu8KQwrgFAjLCiQvCiHVyDix2KBLDu8KQwrgFAjLCiQxtw58fCl7ChEQFAjLCiQTClXbCvwpewoREEXRhw40Zw7HClUUPwogQwosAAAACAAAAAgAAAAIAAAACD8OOwq4SBQIywokKXsKERAbChgHCtg/DjsKuEgtPw7RcAAAAAgLDqcKiwp0UERvCkxAlZmISw7vCkMK4BQIywokLwoh1cg4sdigSw7vCkMK4BQIywokMbcOfHwpewoREBQIywokEwpV2wr8KXsKERBF0YcONDULDj8KCEsO7wpDCuAUCMsKJC8KIdXIOLHYoEsO7wpDCuAUCMsKJDG3Dnx8RdGHDjQ/CiBDCiw/CiBDCiw/CiBDCixLDu8KQwrgFAjLCiRRfw5o0AAAAAgtPw7RcBsKGAcK2BsOewpHCugbCjkQpCl7ChEQOLHYoBsKORCkEF8K5PhFeJcOpEsO7wpDCuBLDu8KQwrgFAjLCiRLDu8KQwrgGwo5EKRFeJcOpDHHDh8KmC8KIdXISw7rCucOzEsO6wrnDswxtw58fC0/DtFwGwoYBwrYGw57CkcK6AMO2wqPDvwAAAAIGw57CkcK6EV4lw6kEwpV2wr8Gwo5EKQDCt3w8BQIywokLT8O0XADDtsKjw78AAAACAsOpwqLCnRFeJcOpDHHDh8KmBQIywokHSsOqGhEUOzQPAxhIFBEbwpMRdGHDjRnDscKVRQ/CiBDCiwAAAAIAAAACAAAAAgAAAAIUHMKFw6kUHMKFw6kUHMKFw6kPwogQwosAAAACAAAAAgAAAAIAAAACAUvCiMK4EV4lw6kAwrd8PAvCiHVyBsKGAcK2AMK3fDwRXiXDqQpewoREBQIywokMccOHwqYAAAACCl7ChEQTw6ZKcgUCMsKJAAAAAhLDu8KQwrgSw7rCucOzB8OewoLDnhLDusK5w7MKXsKERAxxw4fCpgAAAAIOLHYoFF/DmjQAAAACD8KEw4UkC0/DtFwGwoYBwrYGw57CkcK6D8KEw4UkAAAAAhLDusK5w7MLT8O0XAAAAAICw6nCosKdEV4lw6kMccOHwqYFAjLCiQAAAAIPwoTDhSQCw6nCosKdEV4lw6kMccOHwqYFAjLCiQ/ChMOFJAAAAAIRXiXDqQtPw7RcEsO7wpDCuA/CiBDCiwAAAAIAAAACAAAAAgAAAAILwoh1cg4sdigLT8O0XBTDgsO9LgUCMsKJD8OOwq4SCl7ChEQMccOHwqYAAAACCl7ChEQOLHYoAAAAAhFeJcOpAAAAAgQXwrk+EV4lw6kSw7vCkMK4EsO7wpDCuAUCMsKJEsO7wpDCuAAAAAIMccOHwqYKXsKERA/DjsKuEhLDusK5w7MLT8O0XAfDnsKCw54NQsOPwoIAAAACD8KIEMKLAAAAAgAAAAIAAAACAAAAAhDDnsKXw7wOLHYoCl7ChEQFAjLCiRnDscKVRQAAAAIRTVhjDix2KAAAAAIDwqwAwr8OLHYoD8OOwq4SEWsKw4sAAAACBBfCuT4Pw47CrhIOLHYoBBfCuT4FAjLCiQ/DjsKuEgDCt3w8BhHDpyIAw7bCo8O/AAAAAgpewoREE8OmSnISw7rCucOzDHHDh8KmAAAAAgbDnsKRwroGwoYBwrYMccOHwqYKXsKERAAAAAICw6nCosKdBQIywokAAAACCl7ChEQPw47CrhIGwoYBwrYFAjLCiRnDscKVRQAAAAILT8O0XAbChgHCtgbDnsKRwroAAAACAcK+TcKNAAAAAgLDqcKiwp0RXiXDqQxxw4fCpgUCMsKJDMKIw6PDjQzCiMOjw40MbcOfHwbDnsKRwroRXiXDqQTClXbCvwbCjkQpAMK3fDwFAjLCiQtPw7RcEcKiw5gWCkE/wpoRdGHDjQ1Cw4/Cgg/CiBDCiw/CiBDCiwAAAAIAAAACAAAAAgAAAAIZwpcDOATClXbCvxnDscKVRQAAAAIPwoTDhSQLT8O0XAbChgHCtgbDnsKRwroGwo5EKQpewoREDix2KAbCjkQpBBfCuT4RXiXDqRLDu8KQwrgSw7vCkMK4BQIywokSw7vCkMK4BsKORCkRXiXDqQxxw4fCpgvCiHVyEsO6wrnDsxLDusK5w7MMbcOfHxAlZmIPAxhIAMO2wqPDvwAAAAIQJWZiAMO2wqPDvwAAAAIQJWZiEXRhw40PwoTDhSQJfEMSCXxDEg/CiBDCiwAAAAIAAAACAAAAAgAAAAIQJWZiDwMYSAAAAAIHSsOqGgAAAAIAAAACERQ7NAzCiMOjw40MbcOfHxAlZmIMwojDo8ONDMKIw6PDjREUOzQRdGHDjQAAAAIGwoLDnsKQAAAAAg8Ew43CiwzCiMOjw40MbcOfHxAlZmIMwojDo8ONDMKIw6PDjQpBP8KaEXRhw40AAAACBsKCw57CkAAAAAIKQT/CmgzCiMOjw40MbcOfHxAlZmIMwojDo8ONDMKIw6PDjRZ4NcOYEXRhw40JfEMSCXxDEg/CiBDCiwAAAAIAAAACAAAAAgAAAAIQJWZiDwMYSAAAAAISw7rCucOzC0/DtFwAAAACAsOpwqLCnRFeJcOpDHHDh8KmBQIywokAAAACECVmYgAAAAIHSsOqGgAAAAIRFDs0DwTDjcKLCkE/wpoJfEMSCXxDEg/CiBDCiwAAAAIAAAACAAAAAgAAAAIPw47CrhIFAjLCiQxxw4fCpgbChgHCtgDCt3w8Cl7ChEQZw7HClUUAAAACFng1w5gRFDs0DwTDjcKLCkE/wpoPwogQwosAAAACAAAAAgAAAAIAAAACFBzChcOpFBzChcOpFBzChcOpD8KIEMKLAAAAAgAAAAIAAAACAAAAAg/DjsKuEgUCMsKJDHHDh8KmBsKGAcK2AMK3fDwKXsKERAAAAAIHSsOqGgAAAAIOw77DpcOmDsO+w6XDpg/CiBDCiwAAAAIAAAACAAAAAgAAAAIDwqwAwr8Tw6ZKchLDusK5w7MAwrd8PAUCMsKJAAAAAgtPw7RcBsKGAcK2BsOewpHCugAAAAIKw7U3PwAAAAIWeDXDmBnDscKVRQ/CiBDCiwAAAAIAAAACAAAAAgAAAAIAAAACAAAAAgAAAAIAAAACADLCoMKMB8OewoLDng/DjsKuEhFeJcOpAsOpwqLCnQAAAAIUX8OaNBLDusK5w7MPw47CrhIMccOHwqYKXsKERAAAAAISw7vCkMK4EsO6wrnDswfDnsKCw54Sw7rCucOzCl7ChEQPwogQwosAAAACAAAAAgAAAAIAAAACAAAAAgAAAAIAAAACAAAAAhLDu8KQwrgSw7rCucOzB8OewoLDnhLDusK5w7MKXsKERAAAAAIHSsOqGgAAAAILT8O0XAbChgHCtgbDnsKRwroAAAACERLDt20AAAACAsOpwqLCnRFeJcOpDHHDh8KmBQIywokPwogQwosAAAACAAAAAgAAAAIAAAACAAAAAgAAAAIAAAACAAAAAgAywqDCjBFeJcOpEsO7wpDCuBLDu8KQwrgAAAACC8KIdXITw6ZKchFeJcOpD8OOwq4SAAAAAhTDgsO9LhFeJcOpAMK3fDwGwoYBwrYFAjLCiQAAAAIKXsKERA4sdigAAAACD8OOwq4SBQIywokMccOHwqYGwoYBwrYAwrd8PApewoRED8KIEMKLAAAAAgAAAAIAAAACAAAAAgAAAAIAAAACAAAAAgAAAAIPw47CrhIFAjLCiQxxw4fCpgbChgHCtgDCt3w8Cl7ChEQAAAACBsKCw57CkAdKw6oaAAAAAgvCiHVyE8OmSnIPw47CrhIMbcOfHxLDu8KQwrgSw7rCucOzB8OewoLDnhLDusK5w7MKXsKERBF0YcOND8KIEMKLAAAAAgAAAAIAAAACAAAAAgAAAAIAAAACAAAAAgAAAAIAMsKgwowPw47CrhIFAjLCiQbDnsKRwroOLHYoFMOCw70uBQIywokAAAACEsO7wpDCuBLDusK5w7MHw57CgsOeEsO6wrnDswpewoRED8KIEMKLAAAAAgAAAAIAAAACAAAAAgAAAAIAAAACAAAAAgAAAAILT8O0XAbChgHCtgbDnsKRwroAAAACB0rDqhoAAAACC0/DtFwGwoYBwrYGw57CkcK6AAAAAg7DhRLCug7DhRLCugAAAAICw6nCosKdEV4lw6kMccOHwqYFAjLCiQ/CiBDCiwAAAAIAAAACAAAAAgAAAAIPwogQwosAAAACAAAAAgAAAAIAAAACADLCoMKMC8KIdXITw6ZKcgUCMsKJC8KIdXIRawrDiwAAAAISw7rCucOzFF/DmjQAAAACBBfCuT4RXiXDqRLDu8KQwrgSw7vCkMK4EsO6wrnDswtPw7RcB8OewoLDngAAAAILT8O0XAUCMsKJBQIywokSw7vCkMK4BQIywokSw7vCkMK4D8KIEMKLAAAAAgAAAAIAAAACAAAAAhLDusK5w7MUX8OaNAAAAAIAwrd8PAUCMsKJC0/DtFwMbcOfHw/DjsKuEgUCMsKJDHHDh8KmBsKGAcK2AMK3fDwKXsKERBF0YcONAAAAAgHCvk3CjQAAAAIGw57CkcK6EV4lw6kEwpV2wr8Gwo5EKQDCt3w8BQIywokLT8O0XBnDscKVRQ/CiBDCiwAAAAIAAAACAAAAAgAAAAIAAAACAAAAAgAAAAIAAAACADLCoMKMC8KIdXIRXiXDqQDCt3w8C8KIdXIGwoYBwrYAwrd8PBFeJcOpCl7ChEQFAjLCiQAAAAITw6ZKcg4sdigDwqwAwr8AAAACBsOewpHCugbChgHCtgvCiHVyE8OmSnIAAAACEsO6wrnDswxxw4fCpgAAAAILT8O0XAUCMsKJBQIywokSw7vCkMK4BQIywokSw7vCkMK4D8KIEMKLAAAAAgAAAAIAAAACAAAAAgAAAAIAAAACAAAAAgAAAAIEF8K5PhFeJcOpEsO7wpDCuAbCjkQpDHHDh8KmEsO6wrnDsxA8dMKFBQIywokAAAACB0rDqhoAAAACBsOewpHCuhFeJcOpBMKVdsK/BsKORCkAwrd8PAUCMsKJC0/DtFwAAAACEcKiw5gWAAAAAgDCt3w8BQIywokLT8O0XAxtw58fD8OOwq4SBQIywokMccOHwqYGwoYBwrYAwrd8PApewoREEXRhw40PwogQwosAAAACAAAAAgAAAAIAAAACAAAAAgAAAAIAAAACAAAAAgAywqDCjBFeJcOpBBfCuT4EF8K5PgDCt3w8BhHDpyIAAAACBBfCuT4RXiXDqRLDu8KQwrgPwogQwosAAAACAAAAAgAAAAIAAAACAAAAAgAAAAIAAAACAAAAAg/DjsKuEgUCMsKJDHHDh8KmBsKGAcK2AMK3fDwKXsKERAAAAAIGwoLDnsKQB0rDqhoAAAACC8KIdXITw6ZKcg/DjsKuEgxtw58fFng1w5gRdGHDjQAAAAIMwojDo8ONAAAAAgQXwrk+EV4lw6kSw7vCkMK4BsKORCkMccOHwqYSw7rCucOzEDx0woUFAjLCiQ/CiBDCiw/CiBDCiwAAAAIAAAACAAAAAgAAAAIAMsKgwowGBV7Djg/DjsKuEhFeJcOpAsOpwqLCnQLDqcKiwp0Sw7rCucOzC0/DtFwHw57CgsOeAAAAAhLDu8KQwrgSw7rCucOzB8OewoLDnhLDusK5w7MKXsKERAxxw4fCpgAAAAIGEcOnIhLDusK5w7MFAjLCiQDCt3w8EsO7wpDCuAxxw4fCpgAAAAIKXsKERBPDpkpyBQIywokAAAACD8OOwq4SBQIywokUw4LDvS4FAjLCiQ/DjsKuEgxxw4fCpgUCMsKJEsO7wpDCuAAAAAILT8O0XAbChgHCtgbDnsKRwroCw6nCosKdBQIywokPw47CrhIPwogQwosAAAACAAAAAgAAAAIAAAACADLCoMKMACgdAw4sdigAAAACD8OOwq4SBQIywokUw4LDvS4FAjLCiQ/DjsKuEgxxw4fCpgUCMsKJAAAAAhLDusK5w7MKXsKERAAAAAICw6nCosKdEV4lw6kLwoh1chFrCsOLD8KIEMKLAAAAAgAAAAIAAAACAAAAAg/DjsKuEgUCMsKJCl7ChEQGwoYBwrYPw47CrhILT8O0XAAAAAIPw47CrhIFAjLCiQxxw4fCpgbChgHCtgDCt3w8Cl7ChEQLwpNuBxnDscKVRRnDscKVRRHCosOYFgpBP8KaC0VMwoUPwogQwosPwogQwosPwogQwosSw7vCkMK4BQIywokUX8OaNAAAAAIEF8K5PhFeJcOpEsO7wpDCuBLDu8KQwrgFAjLCiRLDu8KQwrgGwo5EKRFeJcOpDHHDh8KmC8KIdXISw7rCucOzEsO6wrnDswbCjkQpCl7ChEQOLHYoBsKORCkLT8O0XAbChgHCtgbDnsKRwroMbcOfHwPCrADCvw4sdigPw47CrhISw7vCkMK4AMO2wqPDvwAAAAICw6nCosKdEV4lw6kMccOHwqYFAjLCiQdKw6oaERQ7NA8DGEgUERvCkxF0YcONGcOxwpVFD8KIEMKLAAAAAgAAAAIAAAACAAAAAhQcwoXDqRQcwoXDqRQcwoXDqQ/CiBDCiwAAAAIAAAACAAAAAgAAAAIBS8KIwrgOLHYoC0/DtFwUw4LDvS4FAjLCiQ/DjsKuEgpewoREDHHDh8KmAAAAAhFeJcOpAAAAAgxxw4fCpgpewoRED8OOwq4SEsO6wrnDswtPw7RcB8OewoLDngAAAAIKXsKERA4sdigAAAACEV4lw6kLT8O0XAAAAAISw7rCucOzC0/DtFwKXsKERAUCMsKJB8OewoLDngUCMsKJD8OOwq4SAAAAAgPCrADCvxPDpkpyBQIywokPw47CrhIFAjLCiQAAAAIKXsKERBPDpkpyBQIywokAAAACBsKGAcK2C0/DtFwSw7rCucOzC8KIdXIOLHYoEsO7wpDCuAUCMsKJAAAAAhTDgsO9LhFeJcOpAMK3fDwGwoYBwrYFAjLCiQxxw4fCpg/CiBDCiwAAAAIAAAACAAAAAgAAAAIOLHYoFF/DmjQAAAACCl7ChEQTw6ZKcgUCMsKJAAAAAgxxw4fCpgpewoRED8OOwq4SEsO6wrnDswtPw7RcB8OewoLDngAAAAIPw47CrhIFAjLCiQQXwrk+D8OOwq4SBQIywokMccOHwqYFAjLCiQtPw7RcCl7ChEQAAAACEsO7wpDCuBLDusK5w7MHw57CgsOeEsO6wrnDswpewoREDHHDh8KmAAAAAhLDusK5w7MLT8O0XAAAAAIKXsKERBPDpkpyBQIywokAAAACB8OewoLDnhLDusK5w7MUw4LDvS4FAjLCiQtPw7RcAAAAAgLDqcKiwp0RXiXDqQxxw4fCpgUCMsKJAAAAAg/ChMOFJALDqcKiwp0RXiXDqQxxw4fCpgUCMsKJD8KEw4UkDULDj8KCD8KIEMKLAAAAAgAAAAIAAAACAAAAAhQcwoXDqRQcwoXDqRQcwoXDqQ/CiBDCiwAAAAIAAAACAAAAAgAAAAIMccOHwqYSw7rCucOzEDx0woUFAjLCiQAAAAIHSsOqGgAAAAIAwrd8PAUCMsKJC0/DtFwMbcOfHwPCrADCvw4sdigPw47CrhISw7vCkMK4EXRhw40PwogQwosAAAACAAAAAgAAAAIAAAACD8OOwq4SBQIywokKXsKERAbChgHCtg/DjsKuEgtPw7RcAAAAAgxxw4fCpgbChgHCtgbDnsKRwroMbcOfHwvCk24HD8KIEMKLAAAAAgAAAAIAAAACAAAAAgAAAAIAAAACAAAAAgAAAAIOLHYoD8OOwq4SEsO7wpDCuAxtw58fC8KIdXITw6ZKchFeJcOpD8OOwq4SEXRhw40AAAACDMKIw6PDjQAAAAICw6nCosKdEV4lw6kMccOHwqYFAjLCiQzCiMOjw40MwojDo8ONEsO6wrnDswAAAAIUX8OaNA4sdigPw47CrhIAAAACEsO6wrnDswDDtsKjw78AAAACC8KIdXITw6ZKchFeJcOpD8OOwq4SAAAAAhLDusK5w7MLT8O0XAAAAAIFAjLCiQtPw7RcBsKGAcK2BsOewpHCugUCMsKJD8OOwq4SEV4lw6kKXsKERAUCMsKJDG3Dnx8DwqwAwr8OLHYoD8OOwq4SEsO7wpDCuAvCk24HGcOxwpVFGcOxwpVFEcKiw5gWCkE/wpoLRUzChRF0YcOND8KIEMKLAAAAAgAAAAIAAAACAAAAAgtFTMKFEXRhw40PwogQwosPwogQwosPwogQwosSw7vCkMK4BQIywokUX8OaNAAAAAIFAjLCiQtPw7RcC8KIdXIPw47CrhIGEcOnIgQXwrk+Cl7ChEQGwo5EKQpewoREBQIywokEwpV2wr8KXsKERAxtw58fCl7ChEQFAjLCiQTClXbCvwpewoREAMO2wqPDvwAAAAIRawrDiwUCMsKJBhHDpyIAw7bCo8O/AAAAAgtPw7RcEXRhw40Zw7HClUUPwogQwosAAAACAAAAAgAAAAIAAAACFBzChcOpFBzChcOpFBzChcOpD8KIEMKLAAAAAgAAAAIAAAACAAAAAhnClwM4C0/DtFwLwoh1cg/DjsKuEgYRw6ciBBfCuT4KXsKERAxxw4fCpgAAAAIRXiXDqQAAAAICw6nCosKdDix2KBLDu8KQwrgGEcOnIgAAAAIOLHYoFF/DmjQAAAACCl7ChEQFAjLCiQTClXbCvwpewoREAAAAAhFeJcOpC0/DtFwSw7vCkMK4AAAAAgUCMsKJC0/DtFwLwoh1cg4sdigSw7vCkMK4BQIywokMccOHwqYAAAACEsO6wrnDswtPw7RcAAAAAgLDqcKiwp0RXiXDqQxxw4fCpgUCMsKJFBEbwpMQJWZiDULDj8KCD8KIEMKLAAAAAgAAAAIAAAACAAAAAhQcwoXDqRQcwoXDqRQcwoXDqQ/CiBDCiwAAAAIAAAACAAAAAgAAAAIAMsKgwowZwpcDOAtPw7RcC8KIdXIOLHYoEsO7wpDCuAUCMsKJAAAAAhFeJcOpDHHDh8KmAAAAAhFeJcOpDHHDh8KmC8KIdXISw7rCucOzEsO6wrnDswAAAAIUw4LDvS4RXiXDqQDCt3w8BsKGAcK2BQIywokMccOHwqYPwogQwosAAAACAAAAAgAAAAIAAAACBQIywokLT8O0XAvCiHVyDix2KBLDu8KQwrgFAjLCiRLDu8KQwrgAAAACB0rDqhoAAAACCl7ChEQFAjLCiQTClXbCvwpewoREDULDj8KCBQIywokLT8O0XAvCiHVyDix2KBLDu8KQwrgFAjLCiQxtw58fEXRhw40PwogQwosAAAACAAAAAgAAAAIAAAACADLCoMKMGcKXAzgLT8O0XAvCiHVyD8OOwq4SBhHDpyIEF8K5PgpewoREAAAAAgUCMsKJEV4lw6kLwoh1chPDpkpyAAAAAhFeJcOpDHHDh8KmC8KIdXISw7rCucOzEsO6wrnDswAAAAIUw4LDvS4RXiXDqQDCt3w8BsKGAcK2BQIywokPwogQwosAAAACAAAAAgAAAAIAAAACBQIywokLT8O0XAvCiHVyD8OOwq4SBhHDpyIEF8K5PgpewoREBQIywokSw7vCkMK4AAAAAgdKw6oaAAAAAgvCk24HBQIywokLT8O0XAvCiHVyD8OOwq4SBhHDpyIEF8K5PgpewoREDG3Dnx8Sw7rCucOzAMO2wqPDvwAAAAIRawrDiwUCMsKJBhHDpyIAw7bCo8O/AAAAAgtPw7RcEXRhw40AAAACFF/DmjQOLHYoD8OOwq4SAAAAAhLDusK5w7MAAAACEsO6wrnDswtPw7RcAAAAAgUCMsKJC0/DtFwLwoh1cg4sdigSw7vCkMK4BQIywokSw7vCkMK4C0VMwoUPwogQwosAAAACAAAAAgAAAAIAAAACADLCoMKMAUvCiMK4EV4lw6kAwrd8PAvCiHVyBsKGAcK2AMK3fDwRXiXDqQpewoREBQIywokAAAACEV4lw6kAwrd8PADCt3w8Dix2KAvCiHVyEV4lw6kKXsKERAUCMsKJEsO7wpDCuAAAAAIMccOHwqYSw7rCucOzEDx0woUFAjLCiQAAAAIGwoYBwrYMccOHwqYSw7rCucOzC0/DtFwHw57CgsOeAAAAAgpewoREE8OmSnIFAjLCiQAAAAIMccOHwqYSw7rCucOzEDx0woUFAjLCiQAAAAIOLHYoFF/DmjQAAAACC0/DtFwAAAACEsO6wrnDswtPw7RcAAAAAgLDqcKiwp0RXiXDqQxxw4fCpgUCMsKJAAAAAhEUOzQPAxhIFBEbwpMPwogQwosAAAACAAAAAgAAAAIAAAACBsOewpHCuhFeJcOpBMKVdsK/BsKORCkAwrd8PAUCMsKJC0/DtFwAAAACB0rDqhoAAAACAMK3fDwFAjLCiQtPw7RcDG3Dnx8LT8O0XAbChgHCtgbDnsKRwroGwo5EKQpewoREDix2KAbCjkQpBBfCuT4RXiXDqRLDu8KQwrgSw7vCkMK4BQIywokSw7vCkMK4BsKORCkRXiXDqQxxw4fCpgvCiHVyEsO6wrnDsxLDusK5w7MMbcOfHwtPw7RcAMO2wqPDvwAAAAIWeDXDmBF0YcONEXRhw40PwogQwosAAAACAAAAAgAAAAIAAAACC8KIdXIOLHYoC0/DtFwUw4LDvS4FAjLCiQ/DjsKuEgpewoREBQIywokSw7vCkMK4AAAAAgdKw6oaAAAAAgvCk24HC0/DtFwGwoYBwrYGw57CkcK6BsKORCkKXsKERA4sdigGwo5EKQQXwrk+EV4lw6kSw7vCkMK4EsO7wpDCuAUCMsKJEsO7wpDCuAbCjkQpEV4lw6kMccOHwqYLwoh1chLDusK5w7MSw7rCucOzDG3Dnx8Sw7rCucOzAMO2wqPDvwAAAAIGw57CkcK6EV4lw6kEwpV2wr8Gwo5EKQDCt3w8BQIywokLT8O0XBF0YcONAAAAAhRfw5o0Dix2KA/DjsKuEgAAAAISw7rCucOzAAAAAhLDusK5w7MLT8O0XAAAAAIFAjLCiQtPw7RcC8KIdXIPw47CrhIGEcOnIgQXwrk+Cl7ChEQFAjLCiRLDu8KQwrgLRUzChQ/CiBDCiwAAAAIAAAACAAAAAgAAAAIAMsKgwowZwpcDOAtPw7RcC8KIdXIOLHYoEsO7wpDCuAUCMsKJAAAAAgxxw4fCpgpewoRED8OOwq4SEsO6wrnDswtPw7RcB8OewoLDngAAAAIRXiXDqQxxw4fCpgAAAAICw6nCosKdEV4lw6kMccOHwqYFAjLCiRQRG8KTECVmYgAAAAICw6nCosKdBhHDpyIKXsKERAUCMsKJDHHDh8KmD8KIEMKLAAAAAgAAAAIAAAACAAAAAg/DjsKuEgUCMsKJCl7ChEQGwoYBwrYPw47CrhILT8O0XAAAAAIFAjLCiQtPw7RcC8KIdXIOLHYoEsO7wpDCuAUCMsKJDG3Dnx8Ow77DpcOmDsO+w6XDpg1Cw4/CggnDg8Kiaw4sdigSw7rCucOzC0/DtFwMbcOfHwvCiHVyDix2KAtPw7RcFMOCw70uBQIywokPw47CrhIKXsKERAUCMsKJEsO7wpDCuBF0YcONEXRhw40PwogQwosPwogQwosPwogQwosSw7vCkMK4BQIywokUX8OaNAAAAAISw7vCkMK4BQIywokLwoh1cg/DjsKuEgYRw6ciBBfCuT4KXsKERAbCjkQpCl7ChEQFAjLCiQTClXbCvwpewoREDG3Dnx8KXsKERAUCMsKJBMKVdsK/Cl7ChEQAw7bCo8O/AAAAAhFrCsOLBQIywokGEcOnIgDDtsKjw78AAAACC0/DtFwRdGHDjRnDscKVRQ/CiBDCiwAAAAIAAAACAAAAAgAAAAIUHMKFw6kUHMKFw6kUHMKFw6kPwogQwosAAAACAAAAAgAAAAIAAAACAUvCiMK4Dix2KAtPw7RcFMOCw70uBQIywokPw47CrhIKXsKERAxxw4fCpgAAAAIRXiXDqQAAAAICw6nCosKdDix2KBLDu8KQwrgGEcOnIgAAAAIOLHYoFF/DmjQAAAACBQIywokLT8O0XAvCiHVyD8OOwq4SBhHDpyIEF8K5PgpewoREBQIywokSw7vCkMK4AMO2wqPDvwAAAAICw6nCosKdEV4lw6kMccOHwqYFAjLCiRQRG8KTECVmYgAAAAIKXsKERAUCMsKJBMKVdsK/Cl7ChEQAAAACAsOpwqLCnRFeJcOpC8KIdXIRawrDiw/CiBDCiwAAAAIAAAACAAAAAgAAAAIKXsKERA4sdigAAAACDHHDh8KmCl7ChEQPw47CrhISw7rCucOzC0/DtFwHw57CgsOeAAAAAhRfw5o0Dix2KA/DjsKuEgbDnsKRwroRXiXDqQpewoREDULDj8KCD8KIEMKLAAAAAgAAAAIAAAACAAAAAhQcwoXDqRQcwoXDqRQcwoXDqQ/CiBDCiwAAAAIAAAACAAAAAgAAAAIAMsKgwowYBcKWwrsFAjLCiQvCiHVyDix2KBLDu8KQwrgFAjLCiQAAAAIKXsKERA4sdigAAAACBBfCuT4RXiXDqRLDu8KQwrgSw7vCkMK4BQIywokSw7vCkMK4AAAAAhFeJcOpDHHDh8KmC8KIdXISw7rCucOzEsO6wrnDsw/CiBDCiwAAAAIAAAACAAAAAgAAAAISw7vCkMK4BQIywokLwoh1cg4sdigSw7vCkMK4BQIywokSw7vCkMK4AAAAAgdKw6oaAAAAAhLDu8KQwrgFAjLCiQvCiHVyDix2KBLDu8KQwrgFAjLCiQxtw58fCl7ChEQFAjLCiQTClXbCvwpewoREEXRhw40PwogQwosAAAACAAAAAgAAAAIAAAACADLCoMKMAUvCiMK4EV4lw6kAwrd8PAvCiHVyBsKGAcK2AMK3fDwRXiXDqQpewoREBQIywokAAAACA8KsAMK/Dix2KA/DjsKuEhLDu8KQwrgAAAACDHHDh8KmEsO6wrnDsxA8dMKFBQIywokPwogQwosAAAACAAAAAgAAAAIAAAACA8KsAMK/Dix2KA/DjsKuEhLDu8KQwrgGwo5EKQxxw4fCphLDusK5w7MQPHTChQUCMsKJAAAAAgdKw6oaAAAAAgDCt3w8BQIywokLT8O0XAxtw58fC0/DtFwGwoYBwrYGw57CkcK6BsKORCkKXsKERA4sdigGwo5EKQQXwrk+EV4lw6kSw7vCkMK4EsO7wpDCuAUCMsKJEsO7wpDCuAbCjkQpEV4lw6kMccOHwqYLwoh1chLDusK5w7MSw7rCucOzDG3Dnx8LT8O0XADDtsKjw78WeDXDmBF0YcONEXRhw40PwogQwosAAAACAAAAAgAAAAIAAAACADLCoMKMACgdAwQXwrk+AMK3fDwSw7rCucOzCl7ChEQAAAACEsO6wrnDswtPw7RcCl7ChEQOLHYoAAAAAgPCrADCvw4sdigPw47CrhISw7vCkMK4DHHDh8KmD8KIEMKLAAAAAgAAAAIAAAACAAAAAgPCrADCvw4sdigPw47CrhISw7vCkMK4DHHDh8KmAAAAAgdKw6oaAAAAAgvCk24HEsO7wpDCuAUCMsKJC8KIdXIOLHYoEsO7wpDCuAUCMsKJEsO7wpDCuAvCk24HEsO6wrnDsxnDscKVRRLDusK5w7MGwoLDnsKQA8KsAMK/Dix2KA/DjsKuEhLDu8KQwrgGwo5EKQxxw4fCphLDusK5w7MQPHTChQUCMsKJC0VMwoUAAAACFF/DmjQOLHYoD8OOwq4SAAAAAhLDusK5w7MAAAACEsO6wrnDswtPw7RcAAAAAg/DjsKuEhFeJcOpC0/DtFwHw57CgsOeBQIywokMbcOfHxZ4NcOYAMO2wqPDvwDCt3w8BQIywokLT8O0XAxtw58fEsO7wpDCuAUCMsKJC8KIdXIOLHYoEsO7wpDCuAUCMsKJEsO7wpDCuBF0YcONAMO2wqPDvwAAAAIDwqwAwr8OLHYoD8OOwq4SEsO7wpDCuAbCjkQpDHHDh8KmEsO6wrnDsxA8dMKFBQIywokRdGHDjQtFTMKFD8KIEMKLAAAAAgAAAAIAAAACAAAAAgAywqDCjAFLwojCuA4sdigLT8O0XBTDgsO9LgUCMsKJD8OOwq4SCl7ChEQAAAACBQIywokRXiXDqQvCiHVyE8OmSnIAAAACA8KsAMK/Dix2KA/DjsKuEhLDu8KQwrgAAAACCl7ChEQOLHYoAAAAAgbChgHCtgtPw7RcEsO6wrnDswvCiHVyDix2KBLDu8KQwrgFAjLCiQAAAAIUw4LDvS4RXiXDqQDCt3w8BsKGAcK2BQIywokPwogQwosAAAACAAAAAgAAAAIAAAACC8KIdXIOLHYoEsO7wpDCuAUCMsKJDHHDh8KmAAAAAgdKw6oaAAAAAgvCk24HBBfCuT4RXiXDqRLDu8KQwrgSw7vCkMK4BQIywokSw7vCkMK4BsKORCkRXiXDqQxxw4fCpgvCiHVyEsO6wrnDsxLDusK5w7MGwo5EKQpewoREDix2KAbCjkQpC0/DtFwGwoYBwrYGw57CkcK6DG3Dnx8DwqwAwr8OLHYoD8OOwq4SEsO7wpDCuBF0YcONAAAAAhRfw5o0Dix2KA/DjsKuEgAAAAIDwqwAwr8OLHYoD8OOwq4SEsO7wpDCuAAAAAISw7rCucOzC0/DtFwAAAACA8KsAMK/Dix2KA/DjsKuEhLDu8KQwrgMccOHwqYLRUzChQ/CiBDCiwAAAAIAAAACAAAAAgAAAAIAMsKgwowYBcKWwrsFAjLCiQvCiHVyD8OOwq4SBhHDpyIEF8K5PgpewoREAAAAAgUCMsKJEV4lw6kLwoh1chPDpkpyAAAAAgvCiHVyDix2KBLDu8KQwrgFAjLCiQ/CiBDCiwAAAAIAAAACAAAAAgAAAAISw7vCkMK4BQIywokLwoh1cg/DjsKuEgYRw6ciBBfCuT4KXsKERAUCMsKJEsO7wpDCuAAAAAIHSsOqGgAAAAILwpNuBwUCMsKJC0/DtFwLwoh1cg/DjsKuEgYRw6ciBBfCuT4KXsKERAxtw58fC8KIdXIOLHYoEsO7wpDCuAUCMsKJAMO2wqPDvwAAAAIRawrDiwUCMsKJBhHDpyIAw7bCo8O/AAAAAgtPw7RcEXRhw40AAAACFF/DmjQOLHYoD8OOwq4SAAAAAgvCiHVyDix2KBLDu8KQwrgFAjLCiQAAAAISw7rCucOzC0/DtFwAAAACC8KIdXIOLHYoEsO7wpDCuAUCMsKJDHHDh8KmC0VMwoUPwogQwosAAAACAAAAAgAAAAIAAAACADLCoMKMAUvCiMK4Dix2KAtPw7RcFMOCw70uBQIywokPw47CrhIKXsKERAAAAAIGwoYBwrYLT8O0XBLDusK5w7MLwoh1cg4sdigSw7vCkMK4BQIywokAAAACAsOpwqLCnRFeJcOpC8KIdXIRawrDiwAAAAIKXsKERA4sdigAAAACDHHDh8KmCl7ChEQPw47CrhISw7rCucOzC0/DtFwHw57CgsOeD8KIEMKLAAAAAgAAAAIAAAACAAAAAg/DjsKuEgUCMsKJCl7ChEQGwoYBwrYPw47CrhILT8O0XAAAAAIOw77DpcOmDsO+w6XDpg1Cw4/CggnDg8Kiaw4sdigSw7rCucOzC0/DtFwMbcOfHwvCk24HC8KIdXITw6ZKcg/DjsKuEgxtw58fFMOCw70uEV4lw6kAwrd8PAbChgHCtgUCMsKJEXRhw40AAAACFF/DmjQOLHYoD8OOwq4SAAAAAhTDgsO9LhFeJcOpAMK3fDwGwoYBwrYFAjLCiQAAAAISw7rCucOzC0/DtFwAAAACEsO7wpDCuAUCMsKJC8KIdXIPw47CrhIGEcOnIgQXwrk+Cl7ChEQFAjLCiRLDu8KQwrgLRUzChRF0YcOND8KIEMKLD8KIEMKLD8KIEMKLEsO7wpDCuAUCMsKJFF/DmjQAAAACBQIywokLT8O0XAvCiHVyD8OOwq4SBhHDpyIEF8K5PgpewoREBsKORCkOLHYoD8OOwq4SBsKORCkSw7vCkMK4BQIywokLwoh1cg/DjsKuEgYRw6ciBBfCuT4KXsKERAbCjkQpFF/DmjQSw7rCucOzAMK3fDwFAjLCiQxtw58fFF/DmjQSw7rCucOzAMK3fDwFAjLCiQtPw7RcEV4lw6kGw57CkcK6BQIywokAw7bCo8O/AAAAAhFrCsOLBQIywokGEcOnIgtPw7RcEV4lw6kGw57CkcK6BQIywokAw7bCo8O/AAAAAgUCMsKJC0/DtFwLwoh1cg/DjsKuEgYRw6ciBBfCuT4KXsKERAUCMsKJEsO7wpDCuADDtsKjw78AAAACD8OOwq4SBQIywokMccOHwqYGwoYBwrYAwrd8PApewoREC0/DtFwRXiXDqQbDnsKRwroFAjLCiRF0YcONGcOxwpVFD8KIEMKLAAAAAgAAAAIAAAACAAAAAg/DjsKuEgUCMsKJEV4lw6kSw7vCkMK4BsKORCkUX8OaNA4sdigPw47CrhIGw57CkcK6EV4lw6kKXsKERADDtsKjw78AAAACA8KsAMK/D8OOwq4SEsO6wrnDswpewoREBQIywokGwo5EKRRfw5o0Dix2KA/DjsKuEgbDnsKRwroRXiXDqQpewoREAMO2wqPDvwAAAAIUX8OaNAbChgHCtgtPw7RcC8KIdXIAAAACB0rDqhoAAAACDG3Dnx8PwogQwosAAAACAAAAAgAAAAIAAAACAAAAAgAAAAIAAAACAAAAAgxtw58fFBzChcOpD8OOwq4SAsOpwqLCnRQcwoXDqQDDtsKjw78AAAACFBzChcOpA8KsAMK/FBzChcOpAMO2wqPDvwAAAAISw7vCkMK4BQIywokLwoh1cg/DjsKuEgYRw6ciBBfCuT4KXsKERAbCjkQpCl7ChEQFAjLCiQTClXbCvwpewoREEXRhw40AAAACEsO6wrnDsxRfw5o0AAAAAgUCMsKJC0/DtFwLwoh1cg/DjsKuEgYRw6ciBBfCuT4KXsKERAUCMsKJEsO7wpDCuAAAAAIHSsOqGgdKw6oaAAAAAhFNWGMPw47CrhIGwoYBwrYFAjLCiQAAAAIFAjLCiQDCt3w8DHHDh8KmBQIywokAAAACDG3Dnx8UHMKFw6kPw47CrhIUHMKFw6kAw7bCo8O/AAAAAhQcwoXDqQPCrADCvwLDqcKiwp0UHMKFw6kAw7bCo8O/AAAAAgUCMsKJC0/DtFwLwoh1cg/DjsKuEgYRw6ciBBfCuT4KXsKERAbCjkQpCl7ChEQFAjLCiQTClXbCvwpewoREEXRhw40PwogQwosAAAACAAAAAgAAAAIAAAACEXRhw40PwogQwosAAAACAAAAAgAAAAIAAAACA8KsAMK/EsO6wrnDswpewoREE8OmSnIAAAACDix2KAQXwrk+BQIywokLT8O0XAxtw58fFF/DmjQSw7rCucOzAMK3fDwFAjLCiQtPw7RcEV4lw6kGw57CkcK6BQIywokAw7bCo8O/AAAAAg/DjsKuEgUCMsKJEV4lw6kSw7vCkMK4BsKORCkUX8OaNA4sdigPw47CrhIGw57CkcK6EV4lw6kKXsKERBF0YcONAAAAAhFeJcOpDHHDh8KmAAAAAhRfw5o0GcOxwpVFD8KIEMKLAAAAAgAAAAIAAAACAAAAAgAAAAIAAAACAAAAAgAAAAIKXsKERAUCMsKJBMKVdsK/Cl7ChEQAAAACB0rDqhoAAAACFF/DmjQNQsOPwoIPw47CrhIFAjLCiRFeJcOpEsO7wpDCuAxtw58fEXRhw40PwogQwosPwogQwosAAAACAAAAAgAAAAIAAAACEWsKw4sFAjLCiQYRw6ciAMO2wqPDvwAAAAILT8O0XAAAAAIHSsOqGgAAAAIPw47CrhIFAjLCiRFeJcOpEsO7wpDCuAbCjkQpEWsKw4sFAjLCiQYRw6ciBsKORCkSw7rCucOzC0/DtFwUX8OaNA4sdigMbcOfHxFrCsOLBQIywokGEcOnIgtPw7RcEV4lw6kGw57CkcK6BQIywokRdGHDjQ/CiBDCiwAAAAIAAAACAAAAAgAAAAIPw47CrhIFAjLCiQxxw4fCpgbChgHCtgDCt3w8Cl7ChEQAAAACB0rDqhoAAAACFF/DmjQGwoYBwrYLT8O0XAvCiHVyDG3Dnx8KXsKERAUCMsKJBMKVdsK/Cl7ChEQAw7bCo8O/AAAAAhFrCsOLBQIywokGEcOnIgDDtsKjw78AAAACC0/DtFwRdGHDjQ/CiBDCiw/CiBDCiwAAAAIAAAACAAAAAgAAAAIDwqwAwr8Sw7rCucOzCl7ChEQTw6ZKcgAAAAIOLHYoBBfCuT4FAjLCiQtPw7RcDG3Dnx8Pw47CrhIFAjLCiQxxw4fCpgbChgHCtgDCt3w8Cl7ChEQLT8O0XBFeJcOpBsOewpHCugUCMsKJAMO2wqPDvwAAAAIDwqwAwr8Pw47CrhISw7rCucOzCl7ChEQFAjLCiQbCjkQpFF/DmjQOLHYoD8OOwq4SBsOewpHCuhFeJcOpCl7ChEQRdGHDjQAAAAIRXiXDqQxxw4fCpgAAAAIUX8OaNBnDscKVRQ/CiBDCiwAAAAIAAAACAAAAAgAAAAIAAAACAAAAAgAAAAIAAAACFF/DmjQNQsOPwoIDwqwAwr8Pw47CrhISw7rCucOzCl7ChEQFAjLCiQxtw58fD8OOwq4SBQIywokMccOHwqYGwoYBwrYAwrd8PApewoREEXRhw40PwogQwosPwogQwosPwogQwosSw7rCucOzFF/DmjQAAAACBsKORCkGwo5EKQtPw7RcEV4lw6kGw57CkcK6BQIywokGwo5EKQbCjkQpAAAAAgdKw6oaB0rDqhoAAAACFBzChcOpBsKORCkGwo5EKQbDnsKRwroRXiXDqRLDusK5w7MLT8O0XAbCjkQpBsKORCkUHMKFw6kZw7HClUUPwogQwosAAAACAAAAAgAAAAIAAAACEV4lw6kPw47CrhIHw57CgsOeDHHDh8KmAAAAAgdKw6oaAAAAAgxxw4fCpgYRw6ciDHHDh8KmDULDj8KCEV4lw6kPw47CrhIHw57CgsOeFMOCw70uD8KIEMKLD8KIEMKLAAAAAgAAAAIAAAACAAAAAhRfw5o0EsO6wrnDswDCt3w8BQIywokLT8O0XBFeJcOpBsOewpHCugUCMsKJAAAAAgdKw6oaAAAAAhFeJcOpD8OOwq4SB8OewoLDngxxw4fCpgvCk24HCkE/wpoLRUzChQ/CiBDCiwAAAAIAAAACAAAAAgAAAAIRawrDiwUCMsKJBhHDpyILT8O0XBFeJcOpBsOewpHCugUCMsKJAAAAAgdKw6oaAAAAAhFeJcOpD8OOwq4SB8OewoLDngxxw4fCpgvCk24HERQ7NAtFTMKFD8KIEMKLAAAAAgAAAAIAAAACAAAAAgUCMsKJC0/DtFwLwoh1cg/DjsKuEgYRw6ciBBfCuT4KXsKERAUCMsKJEsO7wpDCuAAAAAIHSsOqGgAAAAIRXiXDqQ/DjsKuEgfDnsKCw54MccOHwqYLwpNuBw8Ew43CiwtFTMKFAAAAAgdKw6oaB0rDqhoAAAACFBzChcOpEU1YYw/DjsKuEgbChgHCtgUCMsKJFBzChcOpD8KIEMKLAAAAAgAAAAIAAAACAAAAAg/DjsKuEgUCMsKJDHHDh8KmBsKGAcK2AMK3fDwKXsKERAtPw7RcEV4lw6kGw57CkcK6BQIywokAAAACB0rDqhoAAAACEV4lw6kPw47CrhIHw57CgsOeDHHDh8KmC8KTbgcQJWZiC0VMwoUPwogQwosPwogQwosAAAACAAAAAgAAAAIAAAACBQIywokLT8O0XAvCiHVyD8OOwq4SBhHDpyIEF8K5PgpewoREBsKORCkOLHYoD8OOwq4SBsKORCkSw7vCkMK4BQIywokLwoh1cg/DjsKuEgYRw6ciBBfCuT4KXsKERAbCjkQpFF/DmjQSw7rCucOzAMK3fDwFAjLCiQxtw58fFF/DmjQSw7rCucOzAMK3fDwFAjLCiQtPw7RcEV4lw6kGw57CkcK6BQIywokAw7bCo8O/AAAAAhFrCsOLBQIywokGEcOnIgtPw7RcEV4lw6kGw57CkcK6BQIywokAw7bCo8O/AAAAAgUCMsKJC0/DtFwLwoh1cg/DjsKuEgYRw6ciBBfCuT4KXsKERAUCMsKJEsO7wpDCuADDtsKjw78AAAACD8OOwq4SBQIywokMccOHwqYGwoYBwrYAwrd8PApewoREC0/DtFwRXiXDqQbDnsKRwroFAjLCiRF0YcOND8KIEMKL'\n"
     ]
    }
   ],
   "source": [
    "encrypt_or_decrypt_file(sample, secret, False, encrypted_sample)\r\n",
    "with open(encrypted_sample, 'rb') as f:\r\n",
    "    print(f.read())"
   ]
  },
  {
   "cell_type": "code",
   "execution_count": 10,
   "metadata": {},
   "outputs": [
    {
     "name": "stdout",
     "output_type": "stream",
     "text": [
      "from rsa_keygen import mod_power\n",
      "from base64 import b64encode, b64decode\n",
      "import sys\n",
      "\n",
      "\n",
      "def read_key_info(keyname):\n",
      "    \"\"\"\n",
      "    Reads the file at keyname. The file is assumed to\n",
      "    have the structure: key,n.\n",
      "    \"\"\"\n",
      "    with open(keyname, \"r\") as f:\n",
      "        key, n = f.read().split(\",\")\n",
      "    return int(key), int(n)\n",
      "\n",
      "\n",
      "def encrypt(value, key, n):\n",
      "    return mod_power(value, key, n)\n",
      "\n",
      "\n",
      "def encode(text):\n",
      "    return b64encode(text.encode())\n",
      "\n",
      "\n",
      "def decode(text):\n",
      "    return b64decode(text).decode()\n",
      "\n",
      "\n",
      "def num_to_padded_ascii(num, max_len, base=256):\n",
      "    \"\"\"\n",
      "    Calculates the digits of `num` in base `base` and\n",
      "    converts to a padded string. \n",
      "    Note: To work properly, this must be true: num < base**(max_len-1).\n",
      "\n",
      "    Ex: `num_to_padded_ascii(45, 4, 4)`\\\\\n",
      "    45 =  2*(4**2) + 3*(4**1) + 1*(4**0)\\\\\n",
      "    45 in base 4 = 231\\\\\n",
      "    result: 0231\n",
      "    \"\"\"\n",
      "    result = ''\n",
      "    while num > 0:\n",
      "        #grab first digit\n",
      "        digit = num % base\n",
      "        #add char value to result\n",
      "        result += chr(digit)\n",
      "        #remove digit\n",
      "        num = num // base\n",
      "    \n",
      "    #check if padding needed\n",
      "    if len(result) < max_len:\n",
      "        #calculate how much is needed\n",
      "        pad_size = max_len - len(result)\n",
      "        #apply pad\n",
      "        result += chr(0) * pad_size\n",
      "\n",
      "    #Grabbing digits yields the reversed number\n",
      "    #So reverse it back\n",
      "    return result[::-1]\n",
      "\n",
      "\n",
      "def padded_ascii_to_num(word, base=256):\n",
      "    \"\"\"\n",
      "    Converts a string to an integer where the unicode values\n",
      "    of the string represent digits in the given base `base`.\n",
      "    \"\"\"\n",
      "    size = len(word)\n",
      "    return sum([\n",
      "        ord(char) * base**i for i, char in enumerate(word[::-1])\n",
      "    ])\n",
      "\n",
      "\n",
      "def encrypt_text(text, key, n):\n",
      "    \"\"\"\n",
      "    Encrypts a body of text and encodes in base64.\n",
      "    \"\"\"\n",
      "    #Encode as ascii values\n",
      "    encoded = text.encode()\n",
      "    #Encrypt each ascii value\n",
      "    encrypted = [encrypt(i, key, n) for i in encoded]\n",
      "    #Calculate allocated size using the size of n in base 256\n",
      "    max_len = len(num_to_padded_ascii(n, 0))\n",
      "    converted = [num_to_padded_ascii(i, max_len) for i in encrypted]\n",
      "    #Encode string as base64 bytes\n",
      "    return encode(''.join(converted))\n",
      "\n",
      "\n",
      "def decrypt_text(text, key, n):\n",
      "    \"\"\"\n",
      "    Converts a body of encrypted, base64 text back\n",
      "    to string format.\n",
      "    \"\"\"\n",
      "    #Decode to padded ascii\n",
      "    decoded = decode(text)\n",
      "    #Calculate word size\n",
      "    word_size = len(num_to_padded_ascii(n,0))\n",
      "    #Split into words\n",
      "    words = [decoded[i:i+word_size] for i in range(0,len(decoded), word_size)]\n",
      "    #Convert each word to unicode value\n",
      "    codes = [padded_ascii_to_num(word) for word in words]\n",
      "    #Decrypt each code\n",
      "    decrypted = [encrypt(code, key, n) for code in codes]\n",
      "    #Convert unicode back to string\n",
      "    return ''.join([chr(value) for value in decrypted])\n",
      "\n",
      "\n",
      "def encrypt_or_decrypt_file(filename, keyname, encrypted, resultname):\n",
      "    read_format, write_format, func = (\n",
      "        (\"rb\", \"w\", decrypt_text) if encrypted == True else (\"r\", \"wb\", encrypt_text)\n",
      "    )\n",
      "    with open(filename, read_format) as f:\n",
      "        text = f.read()\n",
      "\n",
      "    key, n = read_key_info(keyname)\n",
      "    result = func(text, key, n)\n",
      "\n",
      "    with open(resultname, write_format) as f:\n",
      "        f.write(result)\n",
      "\n",
      "\n",
      "if __name__ == \"__main__\":\n",
      "    args = sys.argv\n",
      "\n",
      "    filename = args[1]\n",
      "    keyname = args[2]\n",
      "    encrypted = args[3] == \"True\"\n",
      "    resultname = args[4]\n",
      "\n",
      "    encrypt_or_decrypt_file(filename, keyname, encrypted, resultname)\n",
      "\n"
     ]
    }
   ],
   "source": [
    "encrypt_or_decrypt_file(encrypted_sample, public, True, decrypted_sample)\r\n",
    "with open(decrypted_sample, 'r') as f:\r\n",
    "    print(f.read())"
   ]
  }
 ],
 "metadata": {
  "kernelspec": {
   "display_name": "Python 3",
   "language": "python",
   "name": "python3"
  },
  "language_info": {
   "codemirror_mode": {
    "name": "ipython",
    "version": 3
   },
   "file_extension": ".py",
   "mimetype": "text/x-python",
   "name": "python",
   "nbconvert_exporter": "python",
   "pygments_lexer": "ipython3",
   "version": "3.8.5"
  },
  "orig_nbformat": 2
 },
 "nbformat": 4,
 "nbformat_minor": 2
}