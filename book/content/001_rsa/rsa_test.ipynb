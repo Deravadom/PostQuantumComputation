{
 "cells": [
  {
   "cell_type": "code",
   "execution_count": 61,
   "metadata": {},
   "outputs": [],
   "source": [
    "from rsa_keygen import *\r\n",
    "from rsa_encrypt import *"
   ]
  },
  {
   "cell_type": "code",
   "execution_count": 62,
   "metadata": {},
   "outputs": [
    {
     "name": "stdout",
     "output_type": "stream",
     "text": [
      "Verifying inputs...\n",
      "Finished!\n",
      "Scanning for relative prime...\n",
      "Finished!\n",
      "Computing multiplicative inverse...\n",
      "Finished!\n",
      "Writing keys to files...\n",
      "Finished!\n"
     ]
    }
   ],
   "source": [
    "# Pick two primes:\r\n",
    "p = 113\r\n",
    "q = 197\r\n",
    "\r\n",
    "# Generate keys\r\n",
    "keygen(p, q)"
   ]
  },
  {
   "cell_type": "code",
   "execution_count": 63,
   "metadata": {},
   "outputs": [
    {
     "name": "stdout",
     "output_type": "stream",
     "text": [
      "public key: 3\n",
      "secret key: 14635\n",
      "n: 22261\n"
     ]
    }
   ],
   "source": [
    "public = \"public.key\"\r\n",
    "secret = \"secret.key\"\r\n",
    "# sample = \"sample_text.txt\"\r\n",
    "sample = \"rsa_encrypt.py\"\r\n",
    "encrypted_sample = \"encrypted_sample.txt\"\r\n",
    "decrypted_sample = \"decrypted_sample.txt\"\r\n",
    "\r\n",
    "public_key, public_n = read_key_info(public)\r\n",
    "secret_key, secret_n = read_key_info(secret)\r\n",
    "\r\n",
    "print(\"public key:\", public_key)\r\n",
    "print(\"secret key:\", secret_key)\r\n",
    "print(\"n:\", secret_n)"
   ]
  },
  {
   "cell_type": "code",
   "execution_count": 64,
   "metadata": {},
   "outputs": [
    {
     "name": "stdout",
     "output_type": "stream",
     "text": [
      "b'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'\n"
     ]
    }
   ],
   "source": [
    "encrypt_or_decrypt_file(sample, secret, False, encrypted_sample)\r\n",
    "with open(encrypted_sample, 'rb') as f:\r\n",
    "    print(f.read())"
   ]
  },
  {
   "cell_type": "code",
   "execution_count": 65,
   "metadata": {},
   "outputs": [
    {
     "name": "stdout",
     "output_type": "stream",
     "text": [
      "from rsa_keygen import mod_power\n",
      "from base64 import b64encode, b64decode\n",
      "import sys\n",
      "\n",
      "\n",
      "def read_key_info(keyname):\n",
      "    \"\"\"\n",
      "    Reads the file at keyname. The file is assumed to\n",
      "    have the structure: key,n.\n",
      "    \"\"\"\n",
      "    with open(keyname, \"r\") as f:\n",
      "        key, n = f.read().split(\",\")\n",
      "    return int(key), int(n)\n",
      "\n",
      "\n",
      "def encrypt(value, key, n):\n",
      "    return mod_power(value, key, n)\n",
      "\n",
      "\n",
      "def encode(text):\n",
      "    return b64encode(text.encode())\n",
      "\n",
      "\n",
      "def decode(text):\n",
      "    return b64decode(text).decode()\n",
      "\n",
      "\n",
      "def encrypt_text(text, key, n):\n",
      "    \"\"\"\n",
      "    Encrypts a body of text and encodes in base64.\n",
      "    \"\"\"\n",
      "    encoded = text.encode()\n",
      "    encrypted = [encrypt(i, key, n) for i in encoded]\n",
      "    result = encode(\"\".join([chr(i) for i in encrypted]))\n",
      "    return result\n",
      "\n",
      "\n",
      "def decrypt_text(text, key, n):\n",
      "    \"\"\"\n",
      "    Converts a body of encrypted, base64 text back\n",
      "    to string format.\n",
      "    \"\"\"\n",
      "    ords = [ord(i) for i in decode(text)]\n",
      "    decrypted = [encrypt(i, key, n) for i in ords]\n",
      "    result = \"\".join([chr(i) for i in decrypted])\n",
      "    return result\n",
      "\n",
      "\n",
      "def encrypt_or_decrypt_file(filename, keyname, encrypted, resultname):\n",
      "    read_format, write_format, func = (\n",
      "        (\"rb\", \"w\", decrypt_text) if encrypted == True else (\"r\", \"wb\", encrypt_text)\n",
      "    )\n",
      "    with open(filename, read_format) as f:\n",
      "        text = f.read()\n",
      "\n",
      "    key, n = read_key_info(keyname)\n",
      "    result = func(text, key, n)\n",
      "\n",
      "    with open(resultname, write_format) as f:\n",
      "        f.write(result)\n",
      "\n",
      "\n",
      "if __name__ == \"__main__\":\n",
      "    args = sys.argv\n",
      "\n",
      "    filename = args[1]\n",
      "    keyname = args[2]\n",
      "    encrypted = args[3] == \"True\"\n",
      "    resultname = args[4]\n",
      "\n",
      "    encrypt_or_decrypt_file(filename, keyname, encrypted, resultname)\n",
      "\n"
     ]
    }
   ],
   "source": [
    "encrypt_or_decrypt_file(encrypted_sample, public, True, decrypted_sample)\r\n",
    "with open(decrypted_sample, 'r') as f:\r\n",
    "    print(f.read())"
   ]
  }
 ],
 "metadata": {
  "kernelspec": {
   "display_name": "Python 3",
   "name": "python3"
  },
  "language_info": {
   "codemirror_mode": {
    "name": "ipython",
    "version": 3
   },
   "file_extension": ".py",
   "mimetype": "text/x-python",
   "name": "python",
   "nbconvert_exporter": "python",
   "pygments_lexer": "ipython3",
   "version": "3.8.5"
  },
  "orig_nbformat": 2
 },
 "nbformat": 4,
 "nbformat_minor": 2
}