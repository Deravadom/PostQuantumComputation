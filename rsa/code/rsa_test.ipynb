{
 "cells": [
  {
   "cell_type": "code",
   "execution_count": null,
   "metadata": {},
   "outputs": [],
   "source": [
    "from rsa_keygen import *\r\n",
    "from rsa_encrypt import *"
   ]
  },
  {
   "cell_type": "code",
   "execution_count": null,
   "metadata": {},
   "outputs": [
    {
     "name": "stdout",
     "output_type": "stream",
     "text": [
      "Verifying inputs...\n",
      "Finished!\n",
      "Scanning for relative prime...\n",
      "Finished!\n",
      "Computing multiplicative inverse...\n",
      "Finished!\n",
      "Writing keys to files...\n",
      "Finished!\n"
     ]
    }
   ],
   "source": [
    "# Pick two primes:\r\n",
    "p = 1777771\r\n",
    "q = 1114111\r\n",
    "\r\n",
    "# Generate keys\r\n",
    "keygen(p, q)"
   ]
  },
  {
   "cell_type": "code",
   "execution_count": null,
   "metadata": {},
   "outputs": [
    {
     "name": "stdout",
     "output_type": "stream",
     "text": [
      "public key: 5\n",
      "secret key: 173\n",
      "n: 323\n"
     ]
    }
   ],
   "source": [
    "public = \"public.key\"\r\n",
    "secret = \"secret.key\"\r\n",
    "sample = \"sample_text.txt\"\r\n",
    "encrypted_sample = \"encrypted_sample.txt\"\r\n",
    "decrypted_sample = \"decrypted_sample.txt\"\r\n",
    "\r\n",
    "public_key, public_n = read_key_info(public)\r\n",
    "secret_key, secret_n = read_key_info(secret)\r\n",
    "\r\n",
    "print(\"public key:\", public_key)\r\n",
    "print(\"secret key:\", secret_key)\r\n",
    "print(\"n:\", secret_n)"
   ]
  },
  {
   "cell_type": "code",
   "execution_count": null,
   "metadata": {},
   "outputs": [
    {
     "name": "stdout",
     "output_type": "stream",
     "text": [
      "This is my example text\n"
     ]
    }
   ],
   "source": [
    "with open(sample, 'r') as f:\r\n",
    "  print(f.read())"
   ]
  },
  {
   "cell_type": "code",
   "execution_count": null,
   "metadata": {},
   "outputs": [
    {
     "name": "stdout",
     "output_type": "stream",
     "text": [
      "b'ADIAZAE+AHMAAgE+AHMAAgBsADEAAgDCqQDCvADCpwBsAMOoAE4AwqkAAgDDswDCqQDCvADDsw=='\n"
     ]
    }
   ],
   "source": [
    "encrypt_or_decrypt_file(sample, secret, False, encrypted_sample)\r\n",
    "with open(encrypted_sample, 'rb') as f:\r\n",
    "    print(f.read())"
   ]
  },
  {
   "cell_type": "code",
   "execution_count": null,
   "metadata": {},
   "outputs": [
    {
     "name": "stdout",
     "output_type": "stream",
     "text": [
      "This is my example text\n"
     ]
    }
   ],
   "source": [
    "encrypt_or_decrypt_file(encrypted_sample, public, True, decrypted_sample)\r\n",
    "with open(decrypted_sample, 'r') as f:\r\n",
    "    print(f.read())"
   ]
  }
 ],
 "metadata": {
  "kernelspec": {
   "display_name": "Python 3",
   "language": "python",
   "name": "python3"
  },
  "language_info": {
   "codemirror_mode": {
    "name": "ipython",
    "version": 3
   },
   "file_extension": ".py",
   "mimetype": "text/x-python",
   "name": "python",
   "nbconvert_exporter": "python",
   "pygments_lexer": "ipython3",
   "version": "3.8.5"
  },
  "orig_nbformat": 2
 },
 "nbformat": 4,
 "nbformat_minor": 2
}