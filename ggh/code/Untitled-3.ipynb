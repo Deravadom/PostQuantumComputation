{
 "cells": [
  {
   "cell_type": "code",
   "execution_count": 1,
   "metadata": {},
   "outputs": [],
   "source": [
    "from ggh import *"
   ]
  },
  {
   "cell_type": "code",
   "execution_count": 2,
   "metadata": {},
   "outputs": [
    {
     "data": {
      "text/plain": "([[0.14285714285714285, 0.0], [0.0, 0.3333333333333333]],\n [[5.0, -3.0], [-3.0, 2.0]],\n [[14.0, 9.0], [21.0, 15.0]],\n [1.0, -1.0])"
     },
     "execution_count": 2,
     "metadata": {},
     "output_type": "execute_result"
    }
   ],
   "source": [
    "B_inv, U_inv = read_key(\"secret.key\")\r\n",
    "B_prime, e = read_key(\"public.key\")\r\n",
    "B_inv, U_inv, B_prime, e"
   ]
  },
  {
   "cell_type": "code",
   "execution_count": 3,
   "metadata": {},
   "outputs": [
    {
     "data": {
      "text/plain": "'C0wHwqwOw6EKNw9YCsKRDMONCMOhD1gKwpENIQkdDFYIaQx5CMKlC1oHwrUNWQlBCz4HwqMPbQrCiwnDpwbDiA1ZCTULbwfDhA4ICcKz'"
     },
     "execution_count": 3,
     "metadata": {},
     "output_type": "execute_result"
    }
   ],
   "source": [
    "encrypted = encrypt_text(\"this is my example text.\", e, B_prime)\r\n",
    "encrypted"
   ]
  },
  {
   "cell_type": "code",
   "execution_count": 4,
   "metadata": {},
   "outputs": [
    {
     "data": {
      "text/plain": "'this is my example text.'"
     },
     "execution_count": 4,
     "metadata": {},
     "output_type": "execute_result"
    }
   ],
   "source": [
    "decrypt_text(encrypted, U_inv, B_inv)"
   ]
  }
 ],
 "metadata": {
  "kernelspec": {
   "display_name": "Python 3",
   "language": "python",
   "name": "python3"
  },
  "language_info": {
   "codemirror_mode": {
    "name": "ipython",
    "version": 3
   },
   "file_extension": ".py",
   "mimetype": "text/x-python",
   "name": "python",
   "nbconvert_exporter": "python",
   "pygments_lexer": "ipython3",
   "version": "3.8.5"
  },
  "orig_nbformat": 2
 },
 "nbformat": 4,
 "nbformat_minor": 2
}